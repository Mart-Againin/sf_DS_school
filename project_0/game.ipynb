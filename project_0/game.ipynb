{
 "cells": [
  {
   "cell_type": "markdown",
   "id": "a8c18ea5",
   "metadata": {},
   "source": [
    "# Игра угадай число"
   ]
  },
  {
   "cell_type": "code",
   "execution_count": 16,
   "id": "20f48bcc",
   "metadata": {},
   "outputs": [],
   "source": [
    "from game_v3 import score_game\n",
    "from game_v3 import random_predict\n",
    "from game_v2 import random_predict_v2\n",
    "from game_v4 import random_predict_v4\n",
    "\n"
   ]
  },
  {
   "cell_type": "markdown",
   "id": "49c2f5d1",
   "metadata": {},
   "source": [
    "## Угадываем рандомно"
   ]
  },
  {
   "cell_type": "code",
   "execution_count": null,
   "id": "eafbd966",
   "metadata": {},
   "outputs": [
    {
     "name": "stdout",
     "output_type": "stream",
     "text": [
      "Ваш алгоритм угадывает число в среднем за: 101 попыток\n",
      "Ваш алгоритм угадывает число в среднем за: 8 попыток\n",
      "Ваш алгоритм угадывает число в среднем за: 5 попыток\n"
     ]
    },
    {
     "data": {
      "text/plain": [
       "5"
      ]
     },
     "execution_count": 17,
     "metadata": {},
     "output_type": "execute_result"
    }
   ],
   "source": [
    "score_game(random_predict_v2) # Вызов функции v2\n",
    "score_game(random_predict) # Вызов функции v3\n",
    "score_game(random_predict_v4) # Вызов функции v4"
   ]
  },
  {
   "cell_type": "markdown",
   "id": "7ded27ea",
   "metadata": {},
   "source": []
  }
 ],
 "metadata": {
  "kernelspec": {
   "display_name": ".venv",
   "language": "python",
   "name": "python3"
  },
  "language_info": {
   "codemirror_mode": {
    "name": "ipython",
    "version": 3
   },
   "file_extension": ".py",
   "mimetype": "text/x-python",
   "name": "python",
   "nbconvert_exporter": "python",
   "pygments_lexer": "ipython3",
   "version": "3.12.8"
  }
 },
 "nbformat": 4,
 "nbformat_minor": 5
}
